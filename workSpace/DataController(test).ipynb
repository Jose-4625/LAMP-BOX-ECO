{
 "cells": [
  {
   "cell_type": "code",
   "execution_count": 82,
   "metadata": {},
   "outputs": [],
   "source": [
    "import os\n",
    "class DataController(object):\n",
    "    \n",
    "    def __init__(self):\n",
    "        \n",
    "        self.dataDict = {}\n",
    "    def updateDataController(self, obj):\n",
    "       \n",
    "        self.dataDict.update(obj)\n",
    "    def saveToPersistentStore(self):\n",
    "        print(\"Saving Data currently in DataController\")\n",
    "        file = open(\"storage.txt\", \"w+\")\n",
    "        file.write(str(self.dataDict))\n",
    "        file.close()\n",
    "        print(\"Data saved\")\n",
    "        \n",
    "class testObject(object):\n",
    "    def __init__(self):\n",
    "        self.z = z\n",
    "        "
   ]
  },
  {
   "cell_type": "code",
   "execution_count": 80,
   "metadata": {},
   "outputs": [
    {
     "name": "stdout",
     "output_type": "stream",
     "text": [
      "<function testObject.__init__ at 0x000001F136EED828>\n",
      "Saving Data currently in DataController\n",
      "Data saved\n"
     ]
    }
   ],
   "source": [
    "DC = DataController()\n",
    "\n",
    "for i in range(20):\n",
    "    obj = {i:DataController()}\n",
    "    DC.updateDataController(obj)\n",
    "\n",
    "#print(DC.dataDict)\n",
    "print(testObject.__init__)\n",
    "DC.saveToPersistentStore()"
   ]
  }
 ],
 "metadata": {
  "kernelspec": {
   "display_name": "Python 3",
   "language": "python",
   "name": "python3"
  },
  "language_info": {
   "codemirror_mode": {
    "name": "ipython",
    "version": 3
   },
   "file_extension": ".py",
   "mimetype": "text/x-python",
   "name": "python",
   "nbconvert_exporter": "python",
   "pygments_lexer": "ipython3",
   "version": "3.7.4"
  }
 },
 "nbformat": 4,
 "nbformat_minor": 2
}
